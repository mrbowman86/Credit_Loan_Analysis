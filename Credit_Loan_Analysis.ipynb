{
 "cells": [
  {
   "cell_type": "code",
   "execution_count": null,
   "id": "b44020db",
   "metadata": {},
   "outputs": [],
   "source": [
    "# Import Dependencies"
   ]
  },
  {
   "cell_type": "code",
   "execution_count": null,
   "id": "daffeb49",
   "metadata": {},
   "outputs": [],
   "source": [
    "# Read In CSV File"
   ]
  },
  {
   "cell_type": "code",
   "execution_count": null,
   "id": "f6f8e4e0",
   "metadata": {},
   "outputs": [],
   "source": [
    "# Analysis: Find Average Loan Amounts Per Type Of Loan"
   ]
  },
  {
   "cell_type": "code",
   "execution_count": null,
   "id": "3ca40825",
   "metadata": {},
   "outputs": [],
   "source": [
    "# Analysis: Find Average Loan Type Per Gender"
   ]
  },
  {
   "cell_type": "code",
   "execution_count": null,
   "id": "aa8396f9",
   "metadata": {},
   "outputs": [],
   "source": [
    "# Analysis: Find Average Loan Amount Per Education Status"
   ]
  },
  {
   "cell_type": "code",
   "execution_count": null,
   "id": "228ceac2",
   "metadata": {},
   "outputs": [],
   "source": [
    "# Analysis: Find Average Term Rate Per Type Of Loan"
   ]
  },
  {
   "cell_type": "code",
   "execution_count": null,
   "id": "9d3e1dd3",
   "metadata": {},
   "outputs": [],
   "source": [
    "# Use Machine Learning to Predict The Loan Details Of A Specific Demographic"
   ]
  }
 ],
 "metadata": {
  "language_info": {
   "name": "python"
  }
 },
 "nbformat": 4,
 "nbformat_minor": 5
}
